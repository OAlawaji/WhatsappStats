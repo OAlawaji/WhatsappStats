{
 "cells": [
  {
   "cell_type": "code",
   "execution_count": null,
   "metadata": {},
   "outputs": [],
   "source": [
    "file_name = \"WhatsApp Chat with السلنتح.txt\""
   ]
  },
  {
   "cell_type": "code",
   "execution_count": null,
   "metadata": {},
   "outputs": [],
   "source": [
    "#هنا ناخذ الرسالة ونحولها من  الشكل الاول للشكل الثاني\n",
    "#03/11/2023, 22:30 - ْبلوخي حكايم: خليك البرمجه تنفعك\n",
    "#['22:30', 'ْبلوخي حكايم', 'خليك البرمجه تنفعك']\n",
    "#ناخذ المفيد منها لبرنامجنا ونحذف الباقي\n",
    "import re\n",
    "import matplotlib.pyplot as plt\n",
    "import seaborn as sns\n",
    "from datetime import datetime\n",
    "\n",
    "\n",
    "def extract_content(file_name):\n",
    "    with open(file_name, \"r\", encoding=\"utf-8\") as conversation: #يفتح الملف اللي اخترناه\n",
    "        messages = conversation.readlines() #يحوله لقائمة لكل سطر\n",
    "        data = []\n",
    "        for message in messages: #يقرا كل سطر\n",
    "            match = re.search(r'^\\d{2}/\\d{2}/\\d{4}, (\\d{2}:\\d{2}) - ([^:]+): (.+)$', message) #نمط الريجيكس حق الرسالة, قروشة شوي شفلها مقطع شرح ذي\n",
    "            if match:\n",
    "                time = match.group(1) \n",
    "                name = match.group(2)\n",
    "                content = match.group(3)\n",
    "                if content != '<Media omitted>' and content != \"This message was deleted\":\n",
    "                    content = content.replace(\"This message was edited\", \"\").strip()\n",
    "                    data.append([time, name, content])\n",
    "    return data\n"
   ]
  },
  {
   "cell_type": "code",
   "execution_count": null,
   "metadata": {},
   "outputs": [],
   "source": [
    "#تعطيه الرسايل مفلتره ويحسبلك كم رسالة من كل شخص\n",
    "def count_messages(names):\n",
    "    message_counts = {}\n",
    "    for name in names:\n",
    "        if name in message_counts:\n",
    "            message_counts[name] += 1\n",
    "        else:\n",
    "            message_counts[name] = 1\n",
    "    sorted_message_counts = dict(sorted(message_counts.items(), key=lambda item: item[1], reverse=True)) #يرتبهن من الاكثر للاقل\n",
    "    return sorted_message_counts\n",
    "\n",
    "# print(count_messages(data))"
   ]
  },
  {
   "cell_type": "code",
   "execution_count": null,
   "metadata": {},
   "outputs": [],
   "source": [
    "#يحسب تكرارات الرسايل بكل المحادثة\n",
    "def get_common_words(contents, top_x=10):\n",
    "    words = {}\n",
    "    for content in contents:\n",
    "        for word in content.split():\n",
    "            if len(word) >= 5 and word.isalnum():  #نحسب الكلمات اللي تتجاوز 4 حروف بس, عشان نحذف حروف العطف والجر\n",
    "                if word in words: #اذا كانت الكلمة موجوده يزيد تكراراتها 1\n",
    "                    words[word] += 1\n",
    "                else: #اذا مهب موجوده يحسبلها اول تكرار\n",
    "                    words[word] = 1\n",
    "    top_words = sorted(words.items(), key=lambda x: x[1], reverse=True)[:top_x] #نرتبها حسب التكرار\n",
    "    return top_words"
   ]
  },
  {
   "cell_type": "code",
   "execution_count": null,
   "metadata": {},
   "outputs": [],
   "source": [
    "#هنا يرسملنا كثافة الرسايل بالاوقات ومنهو المرسل, ذا نقشته من ابو جيبيتي\n",
    "def plot_message_density(times, names):\n",
    "    hours = [datetime.strptime(time, '%H:%M').hour + datetime.strptime(time, '%H:%M').minute / 60 for time in times]\n",
    "    data = {'hours': hours, 'names': names}\n",
    "    \n",
    "    plt.figure(figsize=(10, 5))\n",
    "    sns.kdeplot(data=data, x='hours', hue='names', bw_adjust=0.5, fill=True, alpha=0.5)\n",
    "    plt.xlabel(\"Time\")\n",
    "    plt.ylabel('Messages')\n",
    "    plt.title('Conversation Time')\n",
    "    plt.xticks(range(0, 25, 1))\n",
    "    plt.xlim(0, 24)\n",
    "    plt.yticks([]) \n",
    "    plt.show()\n"
   ]
  },
  {
   "cell_type": "code",
   "execution_count": null,
   "metadata": {},
   "outputs": [],
   "source": [
    "data = extract_content(file_name)\n",
    "\n",
    "times = [entry[0] for entry in data] #نعطيه محتوى الرسايل بس\n",
    "names = [entry[1] for entry in data] #محتوى الاسماء بس\n",
    "contents = [entry[2] for entry in data] #نعطيه محتوى الرسايل بس\n",
    "\n",
    "print(\"- عدد رسايلكم -\")\n",
    "message_counts = count_messages(names)\n",
    "for member,count in message_counts.items():\n",
    "    print(f'{member}: {count}')\n",
    "\n",
    "\n",
    "top_length = 10 #كم نبي التوب كلمات\n",
    "print(\"\\n- أكثر كلمات كررتوها -\")\n",
    "top_words = get_common_words(contents, top_length)\n",
    "for word,frequency in top_words:\n",
    "    print(f'{word}: {frequency}')\n",
    "\n",
    "\n",
    "print(\"\\n- اوقات رسايلكم -\")\n",
    "plot_message_density(times,names)"
   ]
  }
 ],
 "metadata": {
  "kernelspec": {
   "display_name": "base",
   "language": "python",
   "name": "python3"
  },
  "language_info": {
   "codemirror_mode": {
    "name": "ipython",
    "version": 3
   },
   "file_extension": ".py",
   "mimetype": "text/x-python",
   "name": "python",
   "nbconvert_exporter": "python",
   "pygments_lexer": "ipython3",
   "version": "3.11.7"
  }
 },
 "nbformat": 4,
 "nbformat_minor": 2
}
